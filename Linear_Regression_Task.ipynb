{
  "nbformat": 4,
  "nbformat_minor": 0,
  "metadata": {
    "colab": {
      "name": "Linear Regression Task.ipynb",
      "provenance": [],
      "collapsed_sections": [],
      "authorship_tag": "ABX9TyMmXdSjpR+WumWIX7pcZRLp",
      "include_colab_link": true
    },
    "kernelspec": {
      "name": "python3",
      "display_name": "Python 3"
    },
    "language_info": {
      "name": "python"
    }
  },
  "cells": [
    {
      "cell_type": "markdown",
      "metadata": {
        "id": "view-in-github",
        "colab_type": "text"
      },
      "source": [
        "<a href=\"https://colab.research.google.com/github/TevinMusau/Linear_Regression_Task/blob/main/Linear_Regression_Task.ipynb\" target=\"_parent\"><img src=\"https://colab.research.google.com/assets/colab-badge.svg\" alt=\"Open In Colab\"/></a>"
      ]
    },
    {
      "cell_type": "code",
      "execution_count": null,
      "metadata": {
        "id": "7rOr4FWGq314"
      },
      "outputs": [],
      "source": [
        "import pandas as pd\n",
        "import numpy as np\n",
        "import matplotlib.pyplot as plt\n",
        "from sklearn import linear_model"
      ]
    },
    {
      "cell_type": "code",
      "source": [
        "data = pd.read_csv(\"MOCK_DATA.csv\")"
      ],
      "metadata": {
        "id": "vEdkR_GrsKqQ"
      },
      "execution_count": null,
      "outputs": []
    },
    {
      "cell_type": "code",
      "source": [
        "x = data['size']\n",
        "y = data['price']"
      ],
      "metadata": {
        "id": "fwu1XZ1uCRGO"
      },
      "execution_count": null,
      "outputs": []
    },
    {
      "cell_type": "code",
      "source": [
        "x"
      ],
      "metadata": {
        "colab": {
          "base_uri": "https://localhost:8080/"
        },
        "id": "Z-NbKmuIiAFT",
        "outputId": "82745caa-af87-4ba6-d0fe-71438bed9c75"
      },
      "execution_count": null,
      "outputs": [
        {
          "output_type": "execute_result",
          "data": {
            "text/plain": [
              "0     74\n",
              "1     97\n",
              "2     15\n",
              "3     84\n",
              "4     45\n",
              "      ..\n",
              "95    82\n",
              "96    85\n",
              "97    66\n",
              "98    56\n",
              "99    64\n",
              "Name: size, Length: 100, dtype: int64"
            ]
          },
          "metadata": {},
          "execution_count": 609
        }
      ]
    },
    {
      "cell_type": "code",
      "source": [
        "y"
      ],
      "metadata": {
        "colab": {
          "base_uri": "https://localhost:8080/"
        },
        "id": "Y7FYY3XYiB63",
        "outputId": "ea7c5b41-83f1-4485-f915-2796af779e5e"
      },
      "execution_count": null,
      "outputs": [
        {
          "output_type": "execute_result",
          "data": {
            "text/plain": [
              "0     8609\n",
              "1     9405\n",
              "2     8412\n",
              "3     3477\n",
              "4     9866\n",
              "      ... \n",
              "95    9822\n",
              "96    9277\n",
              "97    2285\n",
              "98    4988\n",
              "99    4245\n",
              "Name: price, Length: 100, dtype: int64"
            ]
          },
          "metadata": {},
          "execution_count": 610
        }
      ]
    },
    {
      "cell_type": "code",
      "source": [
        "plt.scatter(x, y)\n",
        "plt.show()"
      ],
      "metadata": {
        "id": "x-IFV8r6CgjU",
        "colab": {
          "base_uri": "https://localhost:8080/",
          "height": 265
        },
        "outputId": "2fdf9394-0d4a-4f22-c401-caf2f99f46ee"
      },
      "execution_count": null,
      "outputs": [
        {
          "output_type": "display_data",
          "data": {
            "text/plain": [
              "<Figure size 432x288 with 1 Axes>"
            ],
            "image/png": "[encoded data removed]"
          },
          "metadata": {
            "needs_background": "light"
          }
        }
      ]
    },
    {
      "cell_type": "code",
      "source": [
        "m = 0.5\n",
        "c = 0.3\n",
        "epochs = 99\n",
        "n = len(data)\n",
        "learning_rate = 0.001\n",
        "\n",
        "error_list = []\n",
        "epoch_list = []"
      ],
      "metadata": {
        "id": "5jDoxPD5ClLQ"
      },
      "execution_count": null,
      "outputs": []
    },
    {
      "cell_type": "code",
      "source": [
        "n"
      ],
      "metadata": {
        "colab": {
          "base_uri": "https://localhost:8080/"
        },
        "id": "cNUm6vtPiRxK",
        "outputId": "e88a7ccf-1fac-44d9-ccc4-266eadef6ee2"
      },
      "execution_count": null,
      "outputs": [
        {
          "output_type": "execute_result",
          "data": {
            "text/plain": [
              "100"
            ]
          },
          "metadata": {},
          "execution_count": 613
        }
      ]
    },
    {
      "cell_type": "code",
      "source": [
        "for i in range(epochs):\n",
        "  y_pred = m*x + c\n",
        "\n",
        "  d_m = (-2/n) * sum(x * (y - y_pred))\n",
        "  d_c = (-2/n) * sum(y - y_pred)\n",
        "\n",
        "  mse = sum([val**2 for val in y - y_pred])/n\n",
        "  error_list.append(mse)\n",
        "\n",
        "  m = m - (learning_rate * d_m)\n",
        "  c = c - (learning_rate * d_c)\n",
        "\n",
        "plt.plot([min(x),max(x)],[min(y_pred),max(y_pred)],color='blue')\n",
        "plt.xlabel(\"Office_Size\")\n",
        "plt.ylabel(\"Office_Price\")\n",
        "plt.title(\"Line of Best Fit\")\n",
        "plt.show()"
      ],
      "metadata": {
        "id": "xw0_KvjBXbZW",
        "colab": {
          "base_uri": "https://localhost:8080/",
          "height": 296
        },
        "outputId": "2e4e038d-eb0d-4c3d-ab02-35fc51d702c0"
      },
      "execution_count": null,
      "outputs": [
        {
          "output_type": "display_data",
          "data": {
            "text/plain": [
              "<Figure size 432x288 with 1 Axes>"
            ],
            "image/png": "[encoded data removed]"
          },
          "metadata": {
            "needs_background": "light"
          }
        }
      ]
    },
    {
      "cell_type": "code",
      "source": [
        "print(m, c)"
      ],
      "metadata": {
        "colab": {
          "base_uri": "https://localhost:8080/"
        },
        "id": "LOGMPpgmqPBq",
        "outputId": "1ec3ff2a-4fab-4f50-d440-b873c45b2a6c"
      },
      "execution_count": null,
      "outputs": [
        {
          "output_type": "stream",
          "name": "stdout",
          "text": [
            "1.3983728449605233e+80 2.045953608749403e+78\n"
          ]
        }
      ]
    },
    {
      "cell_type": "code",
      "source": [
        "y_pred = ((m * 100) + c)\n",
        "y_pred"
      ],
      "metadata": {
        "colab": {
          "base_uri": "https://localhost:8080/"
        },
        "id": "wB_jxxRNwpsl",
        "outputId": "ecec50f3-6f51-4981-ec52-124ea0cc26a0"
      },
      "execution_count": null,
      "outputs": [
        {
          "output_type": "execute_result",
          "data": {
            "text/plain": [
              "1.3985774403213981e+82"
            ]
          },
          "metadata": {},
          "execution_count": 616
        }
      ]
    }
  ]
}